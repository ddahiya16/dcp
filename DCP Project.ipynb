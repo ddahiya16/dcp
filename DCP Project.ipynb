{
 "cells": [
  {
   "cell_type": "markdown",
   "metadata": {},
   "source": [
    "# DCP Project"
   ]
  },
  {
   "cell_type": "markdown",
   "metadata": {},
   "source": [
    "## Data Description"
   ]
  },
  {
   "cell_type": "markdown",
   "metadata": {},
   "source": [
    "**Data Description Incident Ticket:**\n",
    "      \n",
    "| Variables | Description | Type |\n",
    "| :- | :-: | -: |\n",
    "|  | | Integer |\n",
    "|  | | String |\n"
   ]
  },
  {
   "cell_type": "markdown",
   "metadata": {},
   "source": [
    "**Data Description Change Ticket:**\n",
    "      \n",
    "| Variables | Description | Type |\n",
    "| :- | :-: | -: |\n",
    "|  | | Integer |\n",
    "|  | | String |\n"
   ]
  },
  {
   "cell_type": "markdown",
   "metadata": {},
   "source": [
    "## Libraries"
   ]
  },
  {
   "cell_type": "code",
   "execution_count": 2,
   "metadata": {},
   "outputs": [],
   "source": [
    "import numpy as np\n",
    "import pandas as pd\n",
    "import matplotlib.pyplot as plt\n",
    "%matplotlib inline\n",
    "import seaborn as sns\n",
    "import spacy"
   ]
  },
  {
   "cell_type": "markdown",
   "metadata": {},
   "source": [
    "## Data Preprocessing and Exploration"
   ]
  },
  {
   "cell_type": "markdown",
   "metadata": {},
   "source": [
    "### Incident Tickets"
   ]
  },
  {
   "cell_type": "code",
   "execution_count": 3,
   "metadata": {},
   "outputs": [],
   "source": [
    "df_inc  = pd.read_excel('Incident and Change Ticket Sample.xlsx', index_col=0, sheet_name = 'Incident Ticket Sample')  "
   ]
  },
  {
   "cell_type": "code",
   "execution_count": 5,
   "metadata": {},
   "outputs": [
    {
     "data": {
      "text/html": [
       "<div>\n",
       "<style scoped>\n",
       "    .dataframe tbody tr th:only-of-type {\n",
       "        vertical-align: middle;\n",
       "    }\n",
       "\n",
       "    .dataframe tbody tr th {\n",
       "        vertical-align: top;\n",
       "    }\n",
       "\n",
       "    .dataframe thead th {\n",
       "        text-align: right;\n",
       "    }\n",
       "</style>\n",
       "<table border=\"1\" class=\"dataframe\">\n",
       "  <thead>\n",
       "    <tr style=\"text-align: right;\">\n",
       "      <th></th>\n",
       "      <th>INCIDENT_CATEGORY_CD</th>\n",
       "      <th>INCIDENT_IMPACT_CD</th>\n",
       "      <th>INCIDENT_URGENCY_CD</th>\n",
       "      <th>INCIDENT_PRIORITY_CD</th>\n",
       "      <th>INCIDENT_CLASS_CD</th>\n",
       "      <th>INCIDENT_SHORT_DESC</th>\n",
       "      <th>INCIDENT_DESC</th>\n",
       "      <th>INCIDENT_STATUS_CD</th>\n",
       "      <th>INCIDENT_CLOSED_CD</th>\n",
       "      <th>INCIDENT_ENVIRONMENT_CD</th>\n",
       "      <th>...</th>\n",
       "      <th>INCIDENT_ASSIGNMENT_GROUP_BUSINESS_GROUP_CD</th>\n",
       "      <th>INCIDENT_ASSIGNMENT_GROUP_BUSINESS_GROUP_DESC</th>\n",
       "      <th>INCIDENT_ASSIGNMENT_GROUP_CIO_GROUP_NAME</th>\n",
       "      <th>INCIDENT_REOPEN_COUNT_NBR</th>\n",
       "      <th>INCIDENT_MADE_SLA_IND</th>\n",
       "      <th>INCIDENT_REVIEW_TS</th>\n",
       "      <th>INCIDENT_CI_SYMPTOM_NAME</th>\n",
       "      <th>INCIDENT_CI_SYMPTOM_TYPE_CD</th>\n",
       "      <th>INCIDENT_CI_PROBLEM_NAME</th>\n",
       "      <th>INCIDENT_CI_TYPE_CD</th>\n",
       "    </tr>\n",
       "    <tr>\n",
       "      <th>INCIDENT_TICKET_NBR</th>\n",
       "      <th></th>\n",
       "      <th></th>\n",
       "      <th></th>\n",
       "      <th></th>\n",
       "      <th></th>\n",
       "      <th></th>\n",
       "      <th></th>\n",
       "      <th></th>\n",
       "      <th></th>\n",
       "      <th></th>\n",
       "      <th></th>\n",
       "      <th></th>\n",
       "      <th></th>\n",
       "      <th></th>\n",
       "      <th></th>\n",
       "      <th></th>\n",
       "      <th></th>\n",
       "      <th></th>\n",
       "      <th></th>\n",
       "      <th></th>\n",
       "      <th></th>\n",
       "    </tr>\n",
       "  </thead>\n",
       "  <tbody>\n",
       "    <tr>\n",
       "      <th>INCXXXXXXXXX</th>\n",
       "      <td>Software Applications</td>\n",
       "      <td>4 - Low</td>\n",
       "      <td>HIGH</td>\n",
       "      <td>4 - Low</td>\n",
       "      <td>Minor</td>\n",
       "      <td>Pending Bank Loan Service Missing Configuration</td>\n",
       "      <td>The Pending Bank Loan Service is missing updat...</td>\n",
       "      <td>Closed</td>\n",
       "      <td>Closed (Configuration)</td>\n",
       "      <td>Production</td>\n",
       "      <td>...</td>\n",
       "      <td>AM</td>\n",
       "      <td>Asset Management Executive</td>\n",
       "      <td>ASSET MANAGEMENT</td>\n",
       "      <td>0</td>\n",
       "      <td>Y</td>\n",
       "      <td>NaN</td>\n",
       "      <td>OTHER APPLICATION TOPICS</td>\n",
       "      <td>problem_symptom</td>\n",
       "      <td>NaN</td>\n",
       "      <td>Registered Application</td>\n",
       "    </tr>\n",
       "    <tr>\n",
       "      <th>INCXXXXXXXXX</th>\n",
       "      <td>Software Applications</td>\n",
       "      <td>4 - Low</td>\n",
       "      <td>HIGH</td>\n",
       "      <td>4 - Low</td>\n",
       "      <td>Minor</td>\n",
       "      <td>Unable to run switch command for apXXXXXX</td>\n",
       "      <td>Description:\\nTrying to run switch command tcw...</td>\n",
       "      <td>Closed</td>\n",
       "      <td>Closed (Configuration)</td>\n",
       "      <td>Production</td>\n",
       "      <td>...</td>\n",
       "      <td>EY</td>\n",
       "      <td>Enterprise Technology BG</td>\n",
       "      <td>EI</td>\n",
       "      <td>0</td>\n",
       "      <td>Y</td>\n",
       "      <td>NaN</td>\n",
       "      <td>ERRORS &amp; PERFORMANCE</td>\n",
       "      <td>problem_symptom</td>\n",
       "      <td>NaN</td>\n",
       "      <td>Registered Application</td>\n",
       "    </tr>\n",
       "    <tr>\n",
       "      <th>INCXXXXXXXXX</th>\n",
       "      <td>Servers and Storage</td>\n",
       "      <td>4 - Low</td>\n",
       "      <td>HIGH</td>\n",
       "      <td>4 - Low</td>\n",
       "      <td>Minor</td>\n",
       "      <td>XXXXXX servers not appearing in the list to op...</td>\n",
       "      <td>(Server name )are newly build VM servers.\\nI a...</td>\n",
       "      <td>Closed</td>\n",
       "      <td>Closed (Offered Solution)</td>\n",
       "      <td>Non-Production</td>\n",
       "      <td>...</td>\n",
       "      <td>IE</td>\n",
       "      <td>India BG</td>\n",
       "      <td>INDIA</td>\n",
       "      <td>0</td>\n",
       "      <td>Y</td>\n",
       "      <td>NaN</td>\n",
       "      <td>OTHER SERVER TOPICS</td>\n",
       "      <td>problem_symptom</td>\n",
       "      <td>NaN</td>\n",
       "      <td>Linux Server</td>\n",
       "    </tr>\n",
       "    <tr>\n",
       "      <th>INCXXXXXXXXX</th>\n",
       "      <td>Servers and Storage</td>\n",
       "      <td>4 - Low</td>\n",
       "      <td>LOW</td>\n",
       "      <td>6 - Best effort</td>\n",
       "      <td>Minor</td>\n",
       "      <td>XXXX Automatic command- Failuresince no record...</td>\n",
       "      <td>SRM Automatic command- Failure\\nHost:Host name...</td>\n",
       "      <td>Closed</td>\n",
       "      <td>Solved (Permanently)</td>\n",
       "      <td>Production</td>\n",
       "      <td>...</td>\n",
       "      <td>EY</td>\n",
       "      <td>Enterprise Technology BG</td>\n",
       "      <td>EI</td>\n",
       "      <td>0</td>\n",
       "      <td>Y</td>\n",
       "      <td>NaN</td>\n",
       "      <td>SYSTEM ISSUES</td>\n",
       "      <td>problem_symptom</td>\n",
       "      <td>NaN</td>\n",
       "      <td>Linux Server</td>\n",
       "    </tr>\n",
       "    <tr>\n",
       "      <th>INCXXXXXXXXX</th>\n",
       "      <td>Servers and Storage</td>\n",
       "      <td>4 - Low</td>\n",
       "      <td>LOW</td>\n",
       "      <td>6 - Best effort</td>\n",
       "      <td>Minor</td>\n",
       "      <td>XXXX Implementation - Failed -</td>\n",
       "      <td>VM Implementation - Failed\\nHost:Hostname red...</td>\n",
       "      <td>Closed</td>\n",
       "      <td>Solved by Automation</td>\n",
       "      <td>Non-Production</td>\n",
       "      <td>...</td>\n",
       "      <td>EY</td>\n",
       "      <td>Enterprise Technology BG</td>\n",
       "      <td>EI</td>\n",
       "      <td>0</td>\n",
       "      <td>Y</td>\n",
       "      <td>NaN</td>\n",
       "      <td>SYSTEM ISSUES</td>\n",
       "      <td>problem_symptom</td>\n",
       "      <td>NaN</td>\n",
       "      <td>Linux Server</td>\n",
       "    </tr>\n",
       "  </tbody>\n",
       "</table>\n",
       "<p>5 rows × 39 columns</p>\n",
       "</div>"
      ],
      "text/plain": [
       "                      INCIDENT_CATEGORY_CD INCIDENT_IMPACT_CD  \\\n",
       "INCIDENT_TICKET_NBR                                             \n",
       "INCXXXXXXXXX         Software Applications            4 - Low   \n",
       "INCXXXXXXXXX         Software Applications            4 - Low   \n",
       "INCXXXXXXXXX           Servers and Storage            4 - Low   \n",
       "INCXXXXXXXXX           Servers and Storage            4 - Low   \n",
       "INCXXXXXXXXX           Servers and Storage            4 - Low   \n",
       "\n",
       "                    INCIDENT_URGENCY_CD INCIDENT_PRIORITY_CD  \\\n",
       "INCIDENT_TICKET_NBR                                            \n",
       "INCXXXXXXXXX                       HIGH              4 - Low   \n",
       "INCXXXXXXXXX                       HIGH              4 - Low   \n",
       "INCXXXXXXXXX                       HIGH              4 - Low   \n",
       "INCXXXXXXXXX                        LOW      6 - Best effort   \n",
       "INCXXXXXXXXX                        LOW      6 - Best effort   \n",
       "\n",
       "                    INCIDENT_CLASS_CD  \\\n",
       "INCIDENT_TICKET_NBR                     \n",
       "INCXXXXXXXXX                    Minor   \n",
       "INCXXXXXXXXX                    Minor   \n",
       "INCXXXXXXXXX                    Minor   \n",
       "INCXXXXXXXXX                    Minor   \n",
       "INCXXXXXXXXX                    Minor   \n",
       "\n",
       "                                                   INCIDENT_SHORT_DESC  \\\n",
       "INCIDENT_TICKET_NBR                                                      \n",
       "INCXXXXXXXXX           Pending Bank Loan Service Missing Configuration   \n",
       "INCXXXXXXXXX                 Unable to run switch command for apXXXXXX   \n",
       "INCXXXXXXXXX         XXXXXX servers not appearing in the list to op...   \n",
       "INCXXXXXXXXX         XXXX Automatic command- Failuresince no record...   \n",
       "INCXXXXXXXXX                           XXXX Implementation - Failed -    \n",
       "\n",
       "                                                         INCIDENT_DESC  \\\n",
       "INCIDENT_TICKET_NBR                                                      \n",
       "INCXXXXXXXXX         The Pending Bank Loan Service is missing updat...   \n",
       "INCXXXXXXXXX         Description:\\nTrying to run switch command tcw...   \n",
       "INCXXXXXXXXX         (Server name )are newly build VM servers.\\nI a...   \n",
       "INCXXXXXXXXX         SRM Automatic command- Failure\\nHost:Host name...   \n",
       "INCXXXXXXXXX          VM Implementation - Failed\\nHost:Hostname red...   \n",
       "\n",
       "                    INCIDENT_STATUS_CD         INCIDENT_CLOSED_CD  \\\n",
       "INCIDENT_TICKET_NBR                                                 \n",
       "INCXXXXXXXXX                    Closed     Closed (Configuration)   \n",
       "INCXXXXXXXXX                    Closed     Closed (Configuration)   \n",
       "INCXXXXXXXXX                    Closed  Closed (Offered Solution)   \n",
       "INCXXXXXXXXX                    Closed       Solved (Permanently)   \n",
       "INCXXXXXXXXX                    Closed       Solved by Automation   \n",
       "\n",
       "                    INCIDENT_ENVIRONMENT_CD  ...  \\\n",
       "INCIDENT_TICKET_NBR                          ...   \n",
       "INCXXXXXXXXX                     Production  ...   \n",
       "INCXXXXXXXXX                     Production  ...   \n",
       "INCXXXXXXXXX                 Non-Production  ...   \n",
       "INCXXXXXXXXX                     Production  ...   \n",
       "INCXXXXXXXXX                 Non-Production  ...   \n",
       "\n",
       "                     INCIDENT_ASSIGNMENT_GROUP_BUSINESS_GROUP_CD  \\\n",
       "INCIDENT_TICKET_NBR                                                \n",
       "INCXXXXXXXXX                                                  AM   \n",
       "INCXXXXXXXXX                                                  EY   \n",
       "INCXXXXXXXXX                                                  IE   \n",
       "INCXXXXXXXXX                                                  EY   \n",
       "INCXXXXXXXXX                                                  EY   \n",
       "\n",
       "                    INCIDENT_ASSIGNMENT_GROUP_BUSINESS_GROUP_DESC  \\\n",
       "INCIDENT_TICKET_NBR                                                 \n",
       "INCXXXXXXXXX                           Asset Management Executive   \n",
       "INCXXXXXXXXX                             Enterprise Technology BG   \n",
       "INCXXXXXXXXX                                             India BG   \n",
       "INCXXXXXXXXX                             Enterprise Technology BG   \n",
       "INCXXXXXXXXX                             Enterprise Technology BG   \n",
       "\n",
       "                    INCIDENT_ASSIGNMENT_GROUP_CIO_GROUP_NAME  \\\n",
       "INCIDENT_TICKET_NBR                                            \n",
       "INCXXXXXXXXX                                ASSET MANAGEMENT   \n",
       "INCXXXXXXXXX                                              EI   \n",
       "INCXXXXXXXXX                                           INDIA   \n",
       "INCXXXXXXXXX                                              EI   \n",
       "INCXXXXXXXXX                                              EI   \n",
       "\n",
       "                    INCIDENT_REOPEN_COUNT_NBR INCIDENT_MADE_SLA_IND  \\\n",
       "INCIDENT_TICKET_NBR                                                   \n",
       "INCXXXXXXXXX                                0                     Y   \n",
       "INCXXXXXXXXX                                0                     Y   \n",
       "INCXXXXXXXXX                                0                     Y   \n",
       "INCXXXXXXXXX                                0                     Y   \n",
       "INCXXXXXXXXX                                0                     Y   \n",
       "\n",
       "                    INCIDENT_REVIEW_TS  INCIDENT_CI_SYMPTOM_NAME  \\\n",
       "INCIDENT_TICKET_NBR                                                \n",
       "INCXXXXXXXXX                       NaN  OTHER APPLICATION TOPICS   \n",
       "INCXXXXXXXXX                       NaN      ERRORS & PERFORMANCE   \n",
       "INCXXXXXXXXX                       NaN       OTHER SERVER TOPICS   \n",
       "INCXXXXXXXXX                       NaN             SYSTEM ISSUES   \n",
       "INCXXXXXXXXX                       NaN             SYSTEM ISSUES   \n",
       "\n",
       "                    INCIDENT_CI_SYMPTOM_TYPE_CD  INCIDENT_CI_PROBLEM_NAME  \\\n",
       "INCIDENT_TICKET_NBR                                                         \n",
       "INCXXXXXXXXX                    problem_symptom                       NaN   \n",
       "INCXXXXXXXXX                    problem_symptom                       NaN   \n",
       "INCXXXXXXXXX                    problem_symptom                       NaN   \n",
       "INCXXXXXXXXX                    problem_symptom                       NaN   \n",
       "INCXXXXXXXXX                    problem_symptom                       NaN   \n",
       "\n",
       "                        INCIDENT_CI_TYPE_CD  \n",
       "INCIDENT_TICKET_NBR                          \n",
       "INCXXXXXXXXX         Registered Application  \n",
       "INCXXXXXXXXX         Registered Application  \n",
       "INCXXXXXXXXX                   Linux Server  \n",
       "INCXXXXXXXXX                   Linux Server  \n",
       "INCXXXXXXXXX                   Linux Server  \n",
       "\n",
       "[5 rows x 39 columns]"
      ]
     },
     "execution_count": 5,
     "metadata": {},
     "output_type": "execute_result"
    }
   ],
   "source": [
    "df_inc.head()"
   ]
  },
  {
   "cell_type": "code",
   "execution_count": 6,
   "metadata": {},
   "outputs": [
    {
     "name": "stdout",
     "output_type": "stream",
     "text": [
      "<class 'pandas.core.frame.DataFrame'>\n",
      "Index: 10 entries, INCXXXXXXXXX to INCXXXXXXXXX\n",
      "Data columns (total 39 columns):\n",
      " #   Column                                         Non-Null Count  Dtype         \n",
      "---  ------                                         --------------  -----         \n",
      " 0   INCIDENT_CATEGORY_CD                           10 non-null     object        \n",
      " 1   INCIDENT_IMPACT_CD                             10 non-null     object        \n",
      " 2   INCIDENT_URGENCY_CD                            10 non-null     object        \n",
      " 3   INCIDENT_PRIORITY_CD                           10 non-null     object        \n",
      " 4   INCIDENT_CLASS_CD                              10 non-null     object        \n",
      " 5   INCIDENT_SHORT_DESC                            10 non-null     object        \n",
      " 6   INCIDENT_DESC                                  10 non-null     object        \n",
      " 7   INCIDENT_STATUS_CD                             10 non-null     object        \n",
      " 8   INCIDENT_CLOSED_CD                             10 non-null     object        \n",
      " 9   INCIDENT_ENVIRONMENT_CD                        10 non-null     object        \n",
      " 10  INCIDENT_VENDOR_CD                             0 non-null      float64       \n",
      " 11  INCIDENT_OPENED_TS                             10 non-null     datetime64[ns]\n",
      " 12  INCIDENT_ASSIGNMENT_GROUP_CD                   10 non-null     object        \n",
      " 13  INCIDENT_CLOSED_TS                             10 non-null     datetime64[ns]\n",
      " 14  INCIDENT_CLOSE_NOTES_TXT                       10 non-null     object        \n",
      " 15  INCIDENT_RESOLVED_TS                           10 non-null     datetime64[ns]\n",
      " 16  INCIDENT_CONFIG_ITEM_NBR                       10 non-null     object        \n",
      " 17  INCIDENT_CONFIG_ITEM_NAME                      10 non-null     object        \n",
      " 18  INCIDENT_PROBLEM_TICKET_NBR                    0 non-null      float64       \n",
      " 19  INCIDENT_DAY_AGED_NBR                          10 non-null     int64         \n",
      " 20  INCIDENT_MAJOR_IND                             10 non-null     object        \n",
      " 21  INCIDENT_AFFECTED_BUSINESS_CD                  0 non-null      float64       \n",
      " 22  INCIDENT_CAUSED_BY_CHANGE_NBR                  0 non-null      float64       \n",
      " 23  INCIDENT_CHANGE_SHORT_DESC                     0 non-null      float64       \n",
      " 24  INCIDENT_CHANGED_TS                            10 non-null     datetime64[ns]\n",
      " 25  INCIDENT_PARENT_NBR                            0 non-null      float64       \n",
      " 26  INCIDENT_SUBCATEGORY_CD                        10 non-null     object        \n",
      " 27  INCIDENT_KNOWLEDGE_IND                         10 non-null     object        \n",
      " 28  INCIDENT_ORIGINATING_ASSIGNMENT_GROUP_CD       10 non-null     object        \n",
      " 29  INCIDENT_ASSIGNMENT_GROUP_BUSINESS_GROUP_CD    10 non-null     object        \n",
      " 30  INCIDENT_ASSIGNMENT_GROUP_BUSINESS_GROUP_DESC  10 non-null     object        \n",
      " 31  INCIDENT_ASSIGNMENT_GROUP_CIO_GROUP_NAME       10 non-null     object        \n",
      " 32  INCIDENT_REOPEN_COUNT_NBR                      10 non-null     int64         \n",
      " 33  INCIDENT_MADE_SLA_IND                          10 non-null     object        \n",
      " 34  INCIDENT_REVIEW_TS                             0 non-null      float64       \n",
      " 35  INCIDENT_CI_SYMPTOM_NAME                       10 non-null     object        \n",
      " 36  INCIDENT_CI_SYMPTOM_TYPE_CD                    10 non-null     object        \n",
      " 37  INCIDENT_CI_PROBLEM_NAME                       0 non-null      float64       \n",
      " 38  INCIDENT_CI_TYPE_CD                            10 non-null     object        \n",
      "dtypes: datetime64[ns](4), float64(8), int64(2), object(25)\n",
      "memory usage: 3.1+ KB\n"
     ]
    }
   ],
   "source": [
    "df_inc.info()"
   ]
  },
  {
   "cell_type": "code",
   "execution_count": 24,
   "metadata": {},
   "outputs": [
    {
     "name": "stdout",
     "output_type": "stream",
     "text": [
      "Types of unique values:  ['Software Applications' 'Servers and Storage' 'Cloud Support'\n",
      " 'Personal Computer']\n"
     ]
    }
   ],
   "source": [
    "print(\"Types of unique values: \",df_inc['INCIDENT_CATEGORY_CD'].unique())"
   ]
  },
  {
   "cell_type": "code",
   "execution_count": 25,
   "metadata": {},
   "outputs": [
    {
     "name": "stdout",
     "output_type": "stream",
     "text": [
      "Types of unique values:  ['4 - Low']\n"
     ]
    }
   ],
   "source": [
    "print(\"Types of unique values: \",df_inc['INCIDENT_IMPACT_CD'].unique())"
   ]
  },
  {
   "cell_type": "code",
   "execution_count": 26,
   "metadata": {},
   "outputs": [
    {
     "name": "stdout",
     "output_type": "stream",
     "text": [
      "Types of unique values:  ['HIGH' 'LOW']\n"
     ]
    }
   ],
   "source": [
    "print(\"Types of unique values: \",df_inc['INCIDENT_URGENCY_CD'].unique())"
   ]
  },
  {
   "cell_type": "code",
   "execution_count": 27,
   "metadata": {},
   "outputs": [
    {
     "name": "stdout",
     "output_type": "stream",
     "text": [
      "Types of unique values:  ['4 - Low' '6 - Best effort']\n"
     ]
    }
   ],
   "source": [
    "print(\"Types of unique values: \",df_inc['INCIDENT_PRIORITY_CD'].unique())"
   ]
  },
  {
   "cell_type": "code",
   "execution_count": 28,
   "metadata": {},
   "outputs": [
    {
     "name": "stdout",
     "output_type": "stream",
     "text": [
      "Types of unique values:  ['Production' 'Non-Production']\n"
     ]
    }
   ],
   "source": [
    "print(\"Types of unique values: \",df_inc['INCIDENT_ENVIRONMENT_CD'].unique())"
   ]
  },
  {
   "cell_type": "code",
   "execution_count": 29,
   "metadata": {},
   "outputs": [
    {
     "name": "stdout",
     "output_type": "stream",
     "text": [
      "Types of unique values:  ['Closed']\n"
     ]
    }
   ],
   "source": [
    "print(\"Types of unique values: \",df_inc['INCIDENT_STATUS_CD'].unique())"
   ]
  },
  {
   "cell_type": "code",
   "execution_count": 34,
   "metadata": {},
   "outputs": [
    {
     "name": "stdout",
     "output_type": "stream",
     "text": [
      "Types of unique values:  ['Other Application Topics' 'Errors & Performance' 'Other Server Topics'\n",
      " 'System Issues' 'Connectivity Issues' 'Other Topics' 'Data Issues']\n"
     ]
    }
   ],
   "source": [
    "print(\"Types of unique values: \",df_inc['INCIDENT_SUBCATEGORY_CD'].unique())"
   ]
  },
  {
   "cell_type": "code",
   "execution_count": null,
   "metadata": {},
   "outputs": [],
   "source": [
    "## df.drop(['B', 'C'], axis=1)"
   ]
  },
  {
   "cell_type": "code",
   "execution_count": 42,
   "metadata": {},
   "outputs": [],
   "source": [
    "arr = []\n",
    "for i in range(0,len(df_inc['INCIDENT_DESC'])): \n",
    "    arr.append(len(df_inc['INCIDENT_DESC'][i]))\n",
    "df_inc[\"Incident_DESC_Length\"] = arr  "
   ]
  },
  {
   "cell_type": "code",
   "execution_count": 46,
   "metadata": {},
   "outputs": [
    {
     "data": {
      "text/html": [
       "<div>\n",
       "<style scoped>\n",
       "    .dataframe tbody tr th:only-of-type {\n",
       "        vertical-align: middle;\n",
       "    }\n",
       "\n",
       "    .dataframe tbody tr th {\n",
       "        vertical-align: top;\n",
       "    }\n",
       "\n",
       "    .dataframe thead th {\n",
       "        text-align: right;\n",
       "    }\n",
       "</style>\n",
       "<table border=\"1\" class=\"dataframe\">\n",
       "  <thead>\n",
       "    <tr style=\"text-align: right;\">\n",
       "      <th></th>\n",
       "      <th>INCIDENT_CATEGORY_CD</th>\n",
       "      <th>INCIDENT_DESC</th>\n",
       "      <th>Incident_DESC_Length</th>\n",
       "    </tr>\n",
       "    <tr>\n",
       "      <th>INCIDENT_TICKET_NBR</th>\n",
       "      <th></th>\n",
       "      <th></th>\n",
       "      <th></th>\n",
       "    </tr>\n",
       "  </thead>\n",
       "  <tbody>\n",
       "    <tr>\n",
       "      <th>INCXXXXXXXXX</th>\n",
       "      <td>Software Applications</td>\n",
       "      <td>The Pending Bank Loan Service is missing updat...</td>\n",
       "      <td>353</td>\n",
       "    </tr>\n",
       "    <tr>\n",
       "      <th>INCXXXXXXXXX</th>\n",
       "      <td>Software Applications</td>\n",
       "      <td>Description:\\nTrying to run switch command tcw...</td>\n",
       "      <td>231</td>\n",
       "    </tr>\n",
       "    <tr>\n",
       "      <th>INCXXXXXXXXX</th>\n",
       "      <td>Servers and Storage</td>\n",
       "      <td>(Server name )are newly build VM servers.\\nI a...</td>\n",
       "      <td>242</td>\n",
       "    </tr>\n",
       "    <tr>\n",
       "      <th>INCXXXXXXXXX</th>\n",
       "      <td>Servers and Storage</td>\n",
       "      <td>SRM Automatic command- Failure\\nHost:Host name...</td>\n",
       "      <td>515</td>\n",
       "    </tr>\n",
       "    <tr>\n",
       "      <th>INCXXXXXXXXX</th>\n",
       "      <td>Servers and Storage</td>\n",
       "      <td>VM Implementation - Failed\\nHost:Hostname red...</td>\n",
       "      <td>1223</td>\n",
       "    </tr>\n",
       "    <tr>\n",
       "      <th>INCXXXXXXXXX</th>\n",
       "      <td>Servers and Storage</td>\n",
       "      <td>Unable to ping servername - please do the nece...</td>\n",
       "      <td>96</td>\n",
       "    </tr>\n",
       "    <tr>\n",
       "      <th>INCXXXXXXXXX</th>\n",
       "      <td>Cloud Support</td>\n",
       "      <td>Hi Team, we are building python package and pu...</td>\n",
       "      <td>2675</td>\n",
       "    </tr>\n",
       "    <tr>\n",
       "      <th>INCXXXXXXXXX</th>\n",
       "      <td>Servers and Storage</td>\n",
       "      <td>Validate CRF Webservices server name</td>\n",
       "      <td>36</td>\n",
       "    </tr>\n",
       "    <tr>\n",
       "      <th>INCXXXXXXXXX</th>\n",
       "      <td>Cloud Support</td>\n",
       "      <td>This is to onboard jenkins core and use the co...</td>\n",
       "      <td>676</td>\n",
       "    </tr>\n",
       "    <tr>\n",
       "      <th>INCXXXXXXXXX</th>\n",
       "      <td>Personal Computer</td>\n",
       "      <td>When I try to connect to the remote desktop XX...</td>\n",
       "      <td>236</td>\n",
       "    </tr>\n",
       "  </tbody>\n",
       "</table>\n",
       "</div>"
      ],
      "text/plain": [
       "                      INCIDENT_CATEGORY_CD  \\\n",
       "INCIDENT_TICKET_NBR                          \n",
       "INCXXXXXXXXX         Software Applications   \n",
       "INCXXXXXXXXX         Software Applications   \n",
       "INCXXXXXXXXX           Servers and Storage   \n",
       "INCXXXXXXXXX           Servers and Storage   \n",
       "INCXXXXXXXXX           Servers and Storage   \n",
       "INCXXXXXXXXX           Servers and Storage   \n",
       "INCXXXXXXXXX                 Cloud Support   \n",
       "INCXXXXXXXXX           Servers and Storage   \n",
       "INCXXXXXXXXX                 Cloud Support   \n",
       "INCXXXXXXXXX             Personal Computer   \n",
       "\n",
       "                                                         INCIDENT_DESC  \\\n",
       "INCIDENT_TICKET_NBR                                                      \n",
       "INCXXXXXXXXX         The Pending Bank Loan Service is missing updat...   \n",
       "INCXXXXXXXXX         Description:\\nTrying to run switch command tcw...   \n",
       "INCXXXXXXXXX         (Server name )are newly build VM servers.\\nI a...   \n",
       "INCXXXXXXXXX         SRM Automatic command- Failure\\nHost:Host name...   \n",
       "INCXXXXXXXXX          VM Implementation - Failed\\nHost:Hostname red...   \n",
       "INCXXXXXXXXX         Unable to ping servername - please do the nece...   \n",
       "INCXXXXXXXXX         Hi Team, we are building python package and pu...   \n",
       "INCXXXXXXXXX                      Validate CRF Webservices server name   \n",
       "INCXXXXXXXXX         This is to onboard jenkins core and use the co...   \n",
       "INCXXXXXXXXX         When I try to connect to the remote desktop XX...   \n",
       "\n",
       "                     Incident_DESC_Length  \n",
       "INCIDENT_TICKET_NBR                        \n",
       "INCXXXXXXXXX                          353  \n",
       "INCXXXXXXXXX                          231  \n",
       "INCXXXXXXXXX                          242  \n",
       "INCXXXXXXXXX                          515  \n",
       "INCXXXXXXXXX                         1223  \n",
       "INCXXXXXXXXX                           96  \n",
       "INCXXXXXXXXX                         2675  \n",
       "INCXXXXXXXXX                           36  \n",
       "INCXXXXXXXXX                          676  \n",
       "INCXXXXXXXXX                          236  "
      ]
     },
     "execution_count": 46,
     "metadata": {},
     "output_type": "execute_result"
    }
   ],
   "source": [
    "df_inc[['INCIDENT_CATEGORY_CD','INCIDENT_DESC','Incident_DESC_Length']]"
   ]
  },
  {
   "cell_type": "code",
   "execution_count": 56,
   "metadata": {},
   "outputs": [
    {
     "data": {
      "text/plain": [
       "<AxesSubplot:xlabel='Incident_DESC_Length', ylabel='Count'>"
      ]
     },
     "execution_count": 56,
     "metadata": {},
     "output_type": "execute_result"
    },
    {
     "data": {
      "image/png": "[encoded data removed]",
      "text/plain": [
       "<Figure size 2160x1080 with 1 Axes>"
      ]
     },
     "metadata": {
      "needs_background": "light"
     },
     "output_type": "display_data"
    }
   ],
   "source": [
    "fig_dims = (30, 15)\n",
    "fig, ax = plt.subplots(figsize=fig_dims)\n",
    "sns.histplot(data=df_inc, x=\"Incident_DESC_Length\", bins= 25, ax = ax)"
   ]
  },
  {
   "cell_type": "code",
   "execution_count": 61,
   "metadata": {},
   "outputs": [],
   "source": [
    "nlp = spacy.load('en_core_web_sm')\n",
    "rev = ' '.join(df_inc['INCIDENT_DESC'].tolist())\n",
    "doc = nlp(rev)"
   ]
  },
  {
   "cell_type": "code",
   "execution_count": 62,
   "metadata": {},
   "outputs": [
    {
     "data": {
      "text/html": [
       "<div>\n",
       "<style scoped>\n",
       "    .dataframe tbody tr th:only-of-type {\n",
       "        vertical-align: middle;\n",
       "    }\n",
       "\n",
       "    .dataframe tbody tr th {\n",
       "        vertical-align: top;\n",
       "    }\n",
       "\n",
       "    .dataframe thead th {\n",
       "        text-align: right;\n",
       "    }\n",
       "</style>\n",
       "<table border=\"1\" class=\"dataframe\">\n",
       "  <thead>\n",
       "    <tr style=\"text-align: right;\">\n",
       "      <th></th>\n",
       "      <th>Token</th>\n",
       "      <th>Lemma</th>\n",
       "      <th>Stopwards</th>\n",
       "    </tr>\n",
       "  </thead>\n",
       "  <tbody>\n",
       "    <tr>\n",
       "      <th>0</th>\n",
       "      <td>The</td>\n",
       "      <td>the</td>\n",
       "      <td>True</td>\n",
       "    </tr>\n",
       "    <tr>\n",
       "      <th>1</th>\n",
       "      <td>Pending</td>\n",
       "      <td>Pending</td>\n",
       "      <td>False</td>\n",
       "    </tr>\n",
       "    <tr>\n",
       "      <th>2</th>\n",
       "      <td>Bank</td>\n",
       "      <td>Bank</td>\n",
       "      <td>False</td>\n",
       "    </tr>\n",
       "    <tr>\n",
       "      <th>3</th>\n",
       "      <td>Loan</td>\n",
       "      <td>Loan</td>\n",
       "      <td>False</td>\n",
       "    </tr>\n",
       "    <tr>\n",
       "      <th>4</th>\n",
       "      <td>Service</td>\n",
       "      <td>Service</td>\n",
       "      <td>False</td>\n",
       "    </tr>\n",
       "  </tbody>\n",
       "</table>\n",
       "</div>"
      ],
      "text/plain": [
       "     Token    Lemma  Stopwards\n",
       "0      The      the       True\n",
       "1  Pending  Pending      False\n",
       "2     Bank     Bank      False\n",
       "3     Loan     Loan      False\n",
       "4  Service  Service      False"
      ]
     },
     "execution_count": 62,
     "metadata": {},
     "output_type": "execute_result"
    }
   ],
   "source": [
    "tokens = pd.DataFrame(columns=['Token','Lemma','Stopwards'])\n",
    "\n",
    "tok = []\n",
    "lem = []\n",
    "stop = [] \n",
    "for t in doc:\n",
    "    tok.append(str(t))\n",
    "    lem.append(t.lemma_)\n",
    "    stop.append(t.is_stop)\n",
    "\n",
    "\n",
    "tokens[\"Token\"] = tok\n",
    "tokens['Lemma'] = lem\n",
    "tokens['Stopwards'] = stop\n",
    "\n",
    "tokens.head()"
   ]
  },
  {
   "cell_type": "code",
   "execution_count": 63,
   "metadata": {},
   "outputs": [
    {
     "data": {
      "text/plain": [
       "(1196, 3)"
      ]
     },
     "execution_count": 63,
     "metadata": {},
     "output_type": "execute_result"
    }
   ],
   "source": [
    "tokens.shape"
   ]
  },
  {
   "cell_type": "code",
   "execution_count": 64,
   "metadata": {},
   "outputs": [
    {
     "name": "stdout",
     "output_type": "stream",
     "text": [
      "Total number of non-important words:  307\n",
      "Total number of important words:  889\n"
     ]
    }
   ],
   "source": [
    "print(\"Total number of non-important words: \",tokens['Stopwards'][tokens['Stopwards']==True].count())\n",
    "print(\"Total number of important words: \",tokens['Stopwards'][tokens['Stopwards']==False].count())"
   ]
  },
  {
   "cell_type": "code",
   "execution_count": 65,
   "metadata": {},
   "outputs": [
    {
     "data": {
      "text/html": [
       "<div>\n",
       "<style scoped>\n",
       "    .dataframe tbody tr th:only-of-type {\n",
       "        vertical-align: middle;\n",
       "    }\n",
       "\n",
       "    .dataframe tbody tr th {\n",
       "        vertical-align: top;\n",
       "    }\n",
       "\n",
       "    .dataframe thead th {\n",
       "        text-align: right;\n",
       "    }\n",
       "</style>\n",
       "<table border=\"1\" class=\"dataframe\">\n",
       "  <thead>\n",
       "    <tr style=\"text-align: right;\">\n",
       "      <th></th>\n",
       "      <th>Token</th>\n",
       "      <th>Lemma</th>\n",
       "      <th>Stopwards</th>\n",
       "    </tr>\n",
       "  </thead>\n",
       "  <tbody>\n",
       "    <tr>\n",
       "      <th>1</th>\n",
       "      <td>Pending</td>\n",
       "      <td>Pending</td>\n",
       "      <td>False</td>\n",
       "    </tr>\n",
       "    <tr>\n",
       "      <th>2</th>\n",
       "      <td>Bank</td>\n",
       "      <td>Bank</td>\n",
       "      <td>False</td>\n",
       "    </tr>\n",
       "    <tr>\n",
       "      <th>3</th>\n",
       "      <td>Loan</td>\n",
       "      <td>Loan</td>\n",
       "      <td>False</td>\n",
       "    </tr>\n",
       "    <tr>\n",
       "      <th>4</th>\n",
       "      <td>Service</td>\n",
       "      <td>Service</td>\n",
       "      <td>False</td>\n",
       "    </tr>\n",
       "    <tr>\n",
       "      <th>6</th>\n",
       "      <td>missing</td>\n",
       "      <td>miss</td>\n",
       "      <td>False</td>\n",
       "    </tr>\n",
       "  </tbody>\n",
       "</table>\n",
       "</div>"
      ],
      "text/plain": [
       "     Token    Lemma  Stopwards\n",
       "1  Pending  Pending      False\n",
       "2     Bank     Bank      False\n",
       "3     Loan     Loan      False\n",
       "4  Service  Service      False\n",
       "6  missing     miss      False"
      ]
     },
     "execution_count": 65,
     "metadata": {},
     "output_type": "execute_result"
    }
   ],
   "source": [
    "tokens = tokens.loc[tokens[\"Stopwards\"] != True]\n",
    "tokens.head()"
   ]
  },
  {
   "cell_type": "code",
   "execution_count": null,
   "metadata": {},
   "outputs": [],
   "source": [
    "tokens.shape"
   ]
  },
  {
   "cell_type": "code",
   "execution_count": 66,
   "metadata": {},
   "outputs": [],
   "source": [
    "import re\n",
    "regex = re.compile('[@_!#$%^&*()\"''\"<>?/\\|}{~:,.;-=+<>?~`]')\n",
    "temp = tokens.loc[tokens['Token'].str.contains(regex, regex=True) == False]"
   ]
  },
  {
   "cell_type": "code",
   "execution_count": 67,
   "metadata": {},
   "outputs": [
    {
     "data": {
      "text/plain": [
       "(596, 3)"
      ]
     },
     "execution_count": 67,
     "metadata": {},
     "output_type": "execute_result"
    }
   ],
   "source": [
    "temp.shape"
   ]
  },
  {
   "cell_type": "code",
   "execution_count": 70,
   "metadata": {},
   "outputs": [
    {
     "data": {
      "text/plain": [
       "<AxesSubplot:xlabel='count', ylabel='Token'>"
      ]
     },
     "execution_count": 70,
     "metadata": {},
     "output_type": "execute_result"
    },
    {
     "name": "stderr",
     "output_type": "stream",
     "text": [
      "/Users/divyanshdahiya/opt/anaconda3/lib/python3.8/site-packages/matplotlib/backends/backend_agg.py:238: RuntimeWarning: Glyph 9 missing from current font.\n",
      "  font.set_text(s, 0.0, flags=flags)\n",
      "/Users/divyanshdahiya/opt/anaconda3/lib/python3.8/site-packages/matplotlib/backends/backend_agg.py:201: RuntimeWarning: Glyph 9 missing from current font.\n",
      "  font.set_text(s, 0, flags=flags)\n"
     ]
    },
    {
     "data": {
      "image/png": "[encoded data removed]",
      "text/plain": [
       "<Figure size 1440x1800 with 1 Axes>"
      ]
     },
     "metadata": {
      "needs_background": "light"
     },
     "output_type": "display_data"
    }
   ],
   "source": [
    "fig_dims = (20, 25)\n",
    "fig, ax = plt.subplots(figsize=fig_dims)\n",
    "sns.countplot(data=temp, y=\"Token\", order = temp['Token'].value_counts().iloc[5:50].index, palette=\"Set3\")"
   ]
  },
  {
   "cell_type": "code",
   "execution_count": null,
   "metadata": {},
   "outputs": [],
   "source": []
  },
  {
   "cell_type": "markdown",
   "metadata": {},
   "source": [
    "### Change Tickets"
   ]
  },
  {
   "cell_type": "code",
   "execution_count": 10,
   "metadata": {},
   "outputs": [],
   "source": [
    "df_ch  = pd.read_excel('Incident and Change Ticket Sample.xlsx', index_col=0, sheet_name = 'Change Ticket Sample')  "
   ]
  },
  {
   "cell_type": "code",
   "execution_count": 11,
   "metadata": {},
   "outputs": [
    {
     "data": {
      "text/html": [
       "<div>\n",
       "<style scoped>\n",
       "    .dataframe tbody tr th:only-of-type {\n",
       "        vertical-align: middle;\n",
       "    }\n",
       "\n",
       "    .dataframe tbody tr th {\n",
       "        vertical-align: top;\n",
       "    }\n",
       "\n",
       "    .dataframe thead th {\n",
       "        text-align: right;\n",
       "    }\n",
       "</style>\n",
       "<table border=\"1\" class=\"dataframe\">\n",
       "  <thead>\n",
       "    <tr style=\"text-align: right;\">\n",
       "      <th></th>\n",
       "      <th>CHANGE_CATEGORY_CD</th>\n",
       "      <th>CHANGE_SUB_CATEGORY_TXT</th>\n",
       "      <th>CHANGE_SHORT_DESC</th>\n",
       "      <th>CHANGE_DESC</th>\n",
       "      <th>CHANGE_REQUEST_TYPE_CD</th>\n",
       "      <th>CHANGE_APPLICATION_ID</th>\n",
       "      <th>CHANGE_APPLICATION_NAME</th>\n",
       "      <th>CHANGE_APPROVAL_CD</th>\n",
       "      <th>CHANGE_IMPACT_CD</th>\n",
       "      <th>CHANGE_ENVIRONMENT_DESC</th>\n",
       "      <th>...</th>\n",
       "      <th>CHANGE_REQUEST_RISK_CD</th>\n",
       "      <th>CHANGE_REQUEST_PLATFORM_CD</th>\n",
       "      <th>CHANGE_JUSTIFICATION_TXT</th>\n",
       "      <th>CHANGE_PRIORITY_CD</th>\n",
       "      <th>CHANGE_URGENCY_CD</th>\n",
       "      <th>CHANGE_CONFIG_ITEM_NAME</th>\n",
       "      <th>CHANGE_CONFIG_ITEM_CLASS_NAME</th>\n",
       "      <th>CHANGE_UNAUTHORIZED_IND</th>\n",
       "      <th>CHANGE_WORK_START_TS</th>\n",
       "      <th>CHANGE_WORK_END_TS</th>\n",
       "    </tr>\n",
       "    <tr>\n",
       "      <th>CHANGE_TICKET_NBR</th>\n",
       "      <th></th>\n",
       "      <th></th>\n",
       "      <th></th>\n",
       "      <th></th>\n",
       "      <th></th>\n",
       "      <th></th>\n",
       "      <th></th>\n",
       "      <th></th>\n",
       "      <th></th>\n",
       "      <th></th>\n",
       "      <th></th>\n",
       "      <th></th>\n",
       "      <th></th>\n",
       "      <th></th>\n",
       "      <th></th>\n",
       "      <th></th>\n",
       "      <th></th>\n",
       "      <th></th>\n",
       "      <th></th>\n",
       "      <th></th>\n",
       "      <th></th>\n",
       "    </tr>\n",
       "  </thead>\n",
       "  <tbody>\n",
       "    <tr>\n",
       "      <th>CMXXXXXXXXX</th>\n",
       "      <td>Network</td>\n",
       "      <td>Configuration</td>\n",
       "      <td>Migrate Existing Non-Production Application to...</td>\n",
       "      <td>Migrate an existing ALB configuration in the n...</td>\n",
       "      <td>Normal</td>\n",
       "      <td>NaN</td>\n",
       "      <td>NaN</td>\n",
       "      <td>Approved</td>\n",
       "      <td>3 - Medium</td>\n",
       "      <td>Non-Production</td>\n",
       "      <td>...</td>\n",
       "      <td>Low</td>\n",
       "      <td>NaN</td>\n",
       "      <td>NaN</td>\n",
       "      <td>4 - Low</td>\n",
       "      <td>3 - Low</td>\n",
       "      <td>NaN</td>\n",
       "      <td>Server</td>\n",
       "      <td>N</td>\n",
       "      <td>NaT</td>\n",
       "      <td>NaT</td>\n",
       "    </tr>\n",
       "    <tr>\n",
       "      <th>CMXXXXXXXXX</th>\n",
       "      <td>Application</td>\n",
       "      <td>Patch</td>\n",
       "      <td>SNTM: Server Name - EI Server Patching - Linux...</td>\n",
       "      <td>Reschedules and cancellations can be performed...</td>\n",
       "      <td>Normal</td>\n",
       "      <td>NaN</td>\n",
       "      <td>NaN</td>\n",
       "      <td>Approved</td>\n",
       "      <td>3 - Medium</td>\n",
       "      <td>Non-Production</td>\n",
       "      <td>...</td>\n",
       "      <td>Low</td>\n",
       "      <td>NaN</td>\n",
       "      <td>NaN</td>\n",
       "      <td>4 - Low</td>\n",
       "      <td>3 - Low</td>\n",
       "      <td>Server Name1</td>\n",
       "      <td>Linux Server</td>\n",
       "      <td>N</td>\n",
       "      <td>2021-01-14 02:00:00</td>\n",
       "      <td>2021-01-14 09:00:00</td>\n",
       "    </tr>\n",
       "    <tr>\n",
       "      <th>CM212212245</th>\n",
       "      <td>Network</td>\n",
       "      <td>Configuration</td>\n",
       "      <td>Migrate Existing Non-Production Application to...</td>\n",
       "      <td>Migrate an existing ALB configuration in the n...</td>\n",
       "      <td>Normal</td>\n",
       "      <td>NaN</td>\n",
       "      <td>NaN</td>\n",
       "      <td>Approved</td>\n",
       "      <td>3 - Medium</td>\n",
       "      <td>Non-Production</td>\n",
       "      <td>...</td>\n",
       "      <td>Low</td>\n",
       "      <td>NaN</td>\n",
       "      <td>NaN</td>\n",
       "      <td>4 - Low</td>\n",
       "      <td>3 - Low</td>\n",
       "      <td>NaN</td>\n",
       "      <td>Server</td>\n",
       "      <td>N</td>\n",
       "      <td>NaT</td>\n",
       "      <td>NaT</td>\n",
       "    </tr>\n",
       "    <tr>\n",
       "      <th>CMXXXXXXXXX</th>\n",
       "      <td>Network</td>\n",
       "      <td>Configuration</td>\n",
       "      <td>Create Net-New Non-Prod Load Balancing Configu...</td>\n",
       "      <td>Restricted Deployment Change for Automated Loa...</td>\n",
       "      <td>Normal</td>\n",
       "      <td>NaN</td>\n",
       "      <td>NaN</td>\n",
       "      <td>Approved</td>\n",
       "      <td>3 - Medium</td>\n",
       "      <td>Non-Production</td>\n",
       "      <td>...</td>\n",
       "      <td>Low</td>\n",
       "      <td>NaN</td>\n",
       "      <td>NaN</td>\n",
       "      <td>4 - Low</td>\n",
       "      <td>3 - Low</td>\n",
       "      <td>NaN</td>\n",
       "      <td>Server</td>\n",
       "      <td>N</td>\n",
       "      <td>NaT</td>\n",
       "      <td>NaT</td>\n",
       "    </tr>\n",
       "    <tr>\n",
       "      <th>CMXXXXXXXXX</th>\n",
       "      <td>Network</td>\n",
       "      <td>Configuration</td>\n",
       "      <td>Repoint Non-Prod application (application name...</td>\n",
       "      <td>Repoint an existing ADC configuration in the n...</td>\n",
       "      <td>Normal</td>\n",
       "      <td>NaN</td>\n",
       "      <td>NaN</td>\n",
       "      <td>Approved</td>\n",
       "      <td>3 - Medium</td>\n",
       "      <td>Non-Production</td>\n",
       "      <td>...</td>\n",
       "      <td>Low</td>\n",
       "      <td>NaN</td>\n",
       "      <td>NaN</td>\n",
       "      <td>4 - Low</td>\n",
       "      <td>3 - Low</td>\n",
       "      <td>NaN</td>\n",
       "      <td>Server</td>\n",
       "      <td>N</td>\n",
       "      <td>NaT</td>\n",
       "      <td>NaT</td>\n",
       "    </tr>\n",
       "  </tbody>\n",
       "</table>\n",
       "<p>5 rows × 32 columns</p>\n",
       "</div>"
      ],
      "text/plain": [
       "                  CHANGE_CATEGORY_CD CHANGE_SUB_CATEGORY_TXT  \\\n",
       "CHANGE_TICKET_NBR                                              \n",
       "CMXXXXXXXXX                  Network           Configuration   \n",
       "CMXXXXXXXXX              Application                   Patch   \n",
       "CM212212245                  Network           Configuration   \n",
       "CMXXXXXXXXX                  Network           Configuration   \n",
       "CMXXXXXXXXX                  Network           Configuration   \n",
       "\n",
       "                                                   CHANGE_SHORT_DESC  \\\n",
       "CHANGE_TICKET_NBR                                                      \n",
       "CMXXXXXXXXX        Migrate Existing Non-Production Application to...   \n",
       "CMXXXXXXXXX        SNTM: Server Name - EI Server Patching - Linux...   \n",
       "CM212212245        Migrate Existing Non-Production Application to...   \n",
       "CMXXXXXXXXX        Create Net-New Non-Prod Load Balancing Configu...   \n",
       "CMXXXXXXXXX        Repoint Non-Prod application (application name...   \n",
       "\n",
       "                                                         CHANGE_DESC  \\\n",
       "CHANGE_TICKET_NBR                                                      \n",
       "CMXXXXXXXXX        Migrate an existing ALB configuration in the n...   \n",
       "CMXXXXXXXXX        Reschedules and cancellations can be performed...   \n",
       "CM212212245        Migrate an existing ALB configuration in the n...   \n",
       "CMXXXXXXXXX        Restricted Deployment Change for Automated Loa...   \n",
       "CMXXXXXXXXX        Repoint an existing ADC configuration in the n...   \n",
       "\n",
       "                  CHANGE_REQUEST_TYPE_CD CHANGE_APPLICATION_ID  \\\n",
       "CHANGE_TICKET_NBR                                                \n",
       "CMXXXXXXXXX                       Normal                   NaN   \n",
       "CMXXXXXXXXX                       Normal                   NaN   \n",
       "CM212212245                       Normal                   NaN   \n",
       "CMXXXXXXXXX                       Normal                   NaN   \n",
       "CMXXXXXXXXX                       Normal                   NaN   \n",
       "\n",
       "                  CHANGE_APPLICATION_NAME CHANGE_APPROVAL_CD CHANGE_IMPACT_CD  \\\n",
       "CHANGE_TICKET_NBR                                                               \n",
       "CMXXXXXXXXX                           NaN           Approved       3 - Medium   \n",
       "CMXXXXXXXXX                           NaN           Approved       3 - Medium   \n",
       "CM212212245                           NaN           Approved       3 - Medium   \n",
       "CMXXXXXXXXX                           NaN           Approved       3 - Medium   \n",
       "CMXXXXXXXXX                           NaN           Approved       3 - Medium   \n",
       "\n",
       "                  CHANGE_ENVIRONMENT_DESC  ... CHANGE_REQUEST_RISK_CD  \\\n",
       "CHANGE_TICKET_NBR                          ...                          \n",
       "CMXXXXXXXXX                Non-Production  ...                    Low   \n",
       "CMXXXXXXXXX                Non-Production  ...                    Low   \n",
       "CM212212245                Non-Production  ...                    Low   \n",
       "CMXXXXXXXXX                Non-Production  ...                    Low   \n",
       "CMXXXXXXXXX                Non-Production  ...                    Low   \n",
       "\n",
       "                  CHANGE_REQUEST_PLATFORM_CD CHANGE_JUSTIFICATION_TXT  \\\n",
       "CHANGE_TICKET_NBR                                                       \n",
       "CMXXXXXXXXX                              NaN                      NaN   \n",
       "CMXXXXXXXXX                              NaN                      NaN   \n",
       "CM212212245                              NaN                      NaN   \n",
       "CMXXXXXXXXX                              NaN                      NaN   \n",
       "CMXXXXXXXXX                              NaN                      NaN   \n",
       "\n",
       "                  CHANGE_PRIORITY_CD CHANGE_URGENCY_CD  \\\n",
       "CHANGE_TICKET_NBR                                        \n",
       "CMXXXXXXXXX                  4 - Low           3 - Low   \n",
       "CMXXXXXXXXX                  4 - Low           3 - Low   \n",
       "CM212212245                  4 - Low           3 - Low   \n",
       "CMXXXXXXXXX                  4 - Low           3 - Low   \n",
       "CMXXXXXXXXX                  4 - Low           3 - Low   \n",
       "\n",
       "                  CHANGE_CONFIG_ITEM_NAME CHANGE_CONFIG_ITEM_CLASS_NAME  \\\n",
       "CHANGE_TICKET_NBR                                                         \n",
       "CMXXXXXXXXX                           NaN                        Server   \n",
       "CMXXXXXXXXX                  Server Name1                  Linux Server   \n",
       "CM212212245                           NaN                        Server   \n",
       "CMXXXXXXXXX                           NaN                        Server   \n",
       "CMXXXXXXXXX                           NaN                        Server   \n",
       "\n",
       "                  CHANGE_UNAUTHORIZED_IND CHANGE_WORK_START_TS  \\\n",
       "CHANGE_TICKET_NBR                                                \n",
       "CMXXXXXXXXX                             N                  NaT   \n",
       "CMXXXXXXXXX                             N  2021-01-14 02:00:00   \n",
       "CM212212245                             N                  NaT   \n",
       "CMXXXXXXXXX                             N                  NaT   \n",
       "CMXXXXXXXXX                             N                  NaT   \n",
       "\n",
       "                   CHANGE_WORK_END_TS  \n",
       "CHANGE_TICKET_NBR                      \n",
       "CMXXXXXXXXX                       NaT  \n",
       "CMXXXXXXXXX       2021-01-14 09:00:00  \n",
       "CM212212245                       NaT  \n",
       "CMXXXXXXXXX                       NaT  \n",
       "CMXXXXXXXXX                       NaT  \n",
       "\n",
       "[5 rows x 32 columns]"
      ]
     },
     "execution_count": 11,
     "metadata": {},
     "output_type": "execute_result"
    }
   ],
   "source": [
    "df_ch.head()"
   ]
  },
  {
   "cell_type": "code",
   "execution_count": 13,
   "metadata": {},
   "outputs": [
    {
     "name": "stdout",
     "output_type": "stream",
     "text": [
      "<class 'pandas.core.frame.DataFrame'>\n",
      "Index: 10 entries, CMXXXXXXXXX to CMXXXXXXXXX\n",
      "Data columns (total 32 columns):\n",
      " #   Column                         Non-Null Count  Dtype         \n",
      "---  ------                         --------------  -----         \n",
      " 0   CHANGE_CATEGORY_CD             10 non-null     object        \n",
      " 1   CHANGE_SUB_CATEGORY_TXT        10 non-null     object        \n",
      " 2   CHANGE_SHORT_DESC              10 non-null     object        \n",
      " 3   CHANGE_DESC                    10 non-null     object        \n",
      " 4   CHANGE_REQUEST_TYPE_CD         10 non-null     object        \n",
      " 5   CHANGE_APPLICATION_ID          1 non-null      object        \n",
      " 6   CHANGE_APPLICATION_NAME        1 non-null      object        \n",
      " 7   CHANGE_APPROVAL_CD             10 non-null     object        \n",
      " 8   CHANGE_IMPACT_CD               10 non-null     object        \n",
      " 9   CHANGE_ENVIRONMENT_DESC        10 non-null     object        \n",
      " 10  CHANGE_STATUS_CD               10 non-null     object        \n",
      " 11  CHANGE_ASSIGNMENT_GROUP_TXT    10 non-null     object        \n",
      " 12  CHANGE_CREATED_GROUP_TXT       10 non-null     object        \n",
      " 13  CHANGE_PLANNED_START_TS        10 non-null     datetime64[ns]\n",
      " 14  CHANGE_PLANNED_END_TS          10 non-null     datetime64[ns]\n",
      " 15  CHANGE_OPENED_TS               10 non-null     datetime64[ns]\n",
      " 16  CHANGE_CLOSED_TS               10 non-null     datetime64[ns]\n",
      " 17  CHANGE_TRIGGER_CD              10 non-null     object        \n",
      " 18  CHANGE_CLOSURE_CD              10 non-null     object        \n",
      " 19  CHANGE_OUTAGE_START_TS         1 non-null      datetime64[ns]\n",
      " 20  CHANGE_OUTAGE_END_TS           1 non-null      datetime64[ns]\n",
      " 21  CHANGE_REQUESTING_GROUP_NAME   10 non-null     object        \n",
      " 22  CHANGE_REQUEST_RISK_CD         10 non-null     object        \n",
      " 23  CHANGE_REQUEST_PLATFORM_CD     0 non-null      float64       \n",
      " 24  CHANGE_JUSTIFICATION_TXT       0 non-null      float64       \n",
      " 25  CHANGE_PRIORITY_CD             10 non-null     object        \n",
      " 26  CHANGE_URGENCY_CD              10 non-null     object        \n",
      " 27  CHANGE_CONFIG_ITEM_NAME        6 non-null      object        \n",
      " 28  CHANGE_CONFIG_ITEM_CLASS_NAME  10 non-null     object        \n",
      " 29  CHANGE_UNAUTHORIZED_IND        10 non-null     object        \n",
      " 30  CHANGE_WORK_START_TS           1 non-null      datetime64[ns]\n",
      " 31  CHANGE_WORK_END_TS             1 non-null      datetime64[ns]\n",
      "dtypes: datetime64[ns](8), float64(2), object(22)\n",
      "memory usage: 2.9+ KB\n"
     ]
    }
   ],
   "source": [
    "df_ch.info()"
   ]
  },
  {
   "cell_type": "code",
   "execution_count": 35,
   "metadata": {},
   "outputs": [
    {
     "name": "stdout",
     "output_type": "stream",
     "text": [
      "Types of unique values:  ['Network' 'Application' 'Hardware' 'Software']\n"
     ]
    }
   ],
   "source": [
    "print(\"Types of unique values: \",df_ch['CHANGE_CATEGORY_CD'].unique())"
   ]
  },
  {
   "cell_type": "code",
   "execution_count": 47,
   "metadata": {},
   "outputs": [
    {
     "name": "stdout",
     "output_type": "stream",
     "text": [
      "Types of unique values:  ['Normal']\n"
     ]
    }
   ],
   "source": [
    "print(\"Types of unique values: \",df_ch['CHANGE_REQUEST_TYPE_CD'].unique())"
   ]
  },
  {
   "cell_type": "code",
   "execution_count": 48,
   "metadata": {},
   "outputs": [
    {
     "name": "stdout",
     "output_type": "stream",
     "text": [
      "Types of unique values:  ['gns-atm-chg' 'uts-integration-2' 'fit compliance distributed'\n",
      " 'gns-auto-chg']\n"
     ]
    }
   ],
   "source": [
    "print(\"Types of unique values: \",df_ch['CHANGE_ASSIGNMENT_GROUP_TXT'].unique())"
   ]
  },
  {
   "cell_type": "code",
   "execution_count": 49,
   "metadata": {},
   "outputs": [
    {
     "name": "stdout",
     "output_type": "stream",
     "text": [
      "Types of unique values:  ['Closed Complete']\n"
     ]
    }
   ],
   "source": [
    "print(\"Types of unique values: \",df_ch['CHANGE_STATUS_CD'].unique())"
   ]
  },
  {
   "cell_type": "code",
   "execution_count": 51,
   "metadata": {},
   "outputs": [
    {
     "name": "stdout",
     "output_type": "stream",
     "text": [
      "Types of unique values:  [nan 'APXXXXXX']\n"
     ]
    }
   ],
   "source": [
    "print(\"Types of unique values: \",df_ch['CHANGE_APPLICATION_ID'].unique())"
   ]
  },
  {
   "cell_type": "code",
   "execution_count": 50,
   "metadata": {},
   "outputs": [
    {
     "name": "stdout",
     "output_type": "stream",
     "text": [
      "Types of unique values:  [nan 'FI COMPLIANCE PORTAL']\n"
     ]
    }
   ],
   "source": [
    "print(\"Types of unique values: \",df_ch['CHANGE_APPLICATION_NAME'].unique())"
   ]
  },
  {
   "cell_type": "code",
   "execution_count": 74,
   "metadata": {},
   "outputs": [],
   "source": [
    "arr = []\n",
    "for i in range(0,len(df_ch['CHANGE_DESC'])): \n",
    "    arr.append(len(df_ch['CHANGE_DESC'][i]))\n",
    "df_ch[\"Change_DESC_Length\"] = arr  "
   ]
  },
  {
   "cell_type": "code",
   "execution_count": 75,
   "metadata": {},
   "outputs": [
    {
     "data": {
      "text/html": [
       "<div>\n",
       "<style scoped>\n",
       "    .dataframe tbody tr th:only-of-type {\n",
       "        vertical-align: middle;\n",
       "    }\n",
       "\n",
       "    .dataframe tbody tr th {\n",
       "        vertical-align: top;\n",
       "    }\n",
       "\n",
       "    .dataframe thead th {\n",
       "        text-align: right;\n",
       "    }\n",
       "</style>\n",
       "<table border=\"1\" class=\"dataframe\">\n",
       "  <thead>\n",
       "    <tr style=\"text-align: right;\">\n",
       "      <th></th>\n",
       "      <th>CHANGE_DESC</th>\n",
       "      <th>Change_DESC_Length</th>\n",
       "    </tr>\n",
       "    <tr>\n",
       "      <th>CHANGE_TICKET_NBR</th>\n",
       "      <th></th>\n",
       "      <th></th>\n",
       "    </tr>\n",
       "  </thead>\n",
       "  <tbody>\n",
       "    <tr>\n",
       "      <th>CMXXXXXXXXX</th>\n",
       "      <td>Migrate an existing ALB configuration in the n...</td>\n",
       "      <td>469</td>\n",
       "    </tr>\n",
       "    <tr>\n",
       "      <th>CMXXXXXXXXX</th>\n",
       "      <td>Reschedules and cancellations can be performed...</td>\n",
       "      <td>970</td>\n",
       "    </tr>\n",
       "    <tr>\n",
       "      <th>CM212212245</th>\n",
       "      <td>Migrate an existing ALB configuration in the n...</td>\n",
       "      <td>469</td>\n",
       "    </tr>\n",
       "    <tr>\n",
       "      <th>CMXXXXXXXXX</th>\n",
       "      <td>Restricted Deployment Change for Automated Loa...</td>\n",
       "      <td>336</td>\n",
       "    </tr>\n",
       "    <tr>\n",
       "      <th>CMXXXXXXXXX</th>\n",
       "      <td>Repoint an existing ADC configuration in the n...</td>\n",
       "      <td>399</td>\n",
       "    </tr>\n",
       "    <tr>\n",
       "      <th>CMXXXXXXXXX</th>\n",
       "      <td>Please mount the following  file system on the...</td>\n",
       "      <td>77</td>\n",
       "    </tr>\n",
       "    <tr>\n",
       "      <th>CMXXXXXXXXX</th>\n",
       "      <td>Requestor has asked for UTS while installing s...</td>\n",
       "      <td>495</td>\n",
       "    </tr>\n",
       "    <tr>\n",
       "      <th>CMXXXXXXXXX</th>\n",
       "      <td>Overview:\\n\\nThis is a STANDARD CHANGE REQUEST...</td>\n",
       "      <td>369</td>\n",
       "    </tr>\n",
       "    <tr>\n",
       "      <th>CMXXXXXXXXX</th>\n",
       "      <td>Detail what you are doing?     1. The change i...</td>\n",
       "      <td>820</td>\n",
       "    </tr>\n",
       "    <tr>\n",
       "      <th>CMXXXXXXXXX</th>\n",
       "      <td>This change is to add customer requested firew...</td>\n",
       "      <td>260</td>\n",
       "    </tr>\n",
       "  </tbody>\n",
       "</table>\n",
       "</div>"
      ],
      "text/plain": [
       "                                                         CHANGE_DESC  \\\n",
       "CHANGE_TICKET_NBR                                                      \n",
       "CMXXXXXXXXX        Migrate an existing ALB configuration in the n...   \n",
       "CMXXXXXXXXX        Reschedules and cancellations can be performed...   \n",
       "CM212212245        Migrate an existing ALB configuration in the n...   \n",
       "CMXXXXXXXXX        Restricted Deployment Change for Automated Loa...   \n",
       "CMXXXXXXXXX        Repoint an existing ADC configuration in the n...   \n",
       "CMXXXXXXXXX        Please mount the following  file system on the...   \n",
       "CMXXXXXXXXX        Requestor has asked for UTS while installing s...   \n",
       "CMXXXXXXXXX        Overview:\\n\\nThis is a STANDARD CHANGE REQUEST...   \n",
       "CMXXXXXXXXX        Detail what you are doing?     1. The change i...   \n",
       "CMXXXXXXXXX        This change is to add customer requested firew...   \n",
       "\n",
       "                   Change_DESC_Length  \n",
       "CHANGE_TICKET_NBR                      \n",
       "CMXXXXXXXXX                       469  \n",
       "CMXXXXXXXXX                       970  \n",
       "CM212212245                       469  \n",
       "CMXXXXXXXXX                       336  \n",
       "CMXXXXXXXXX                       399  \n",
       "CMXXXXXXXXX                        77  \n",
       "CMXXXXXXXXX                       495  \n",
       "CMXXXXXXXXX                       369  \n",
       "CMXXXXXXXXX                       820  \n",
       "CMXXXXXXXXX                       260  "
      ]
     },
     "execution_count": 75,
     "metadata": {},
     "output_type": "execute_result"
    }
   ],
   "source": [
    "df_ch[['CHANGE_DESC','Change_DESC_Length']]"
   ]
  },
  {
   "cell_type": "code",
   "execution_count": 77,
   "metadata": {},
   "outputs": [
    {
     "data": {
      "text/plain": [
       "<AxesSubplot:xlabel='Change_DESC_Length', ylabel='Count'>"
      ]
     },
     "execution_count": 77,
     "metadata": {},
     "output_type": "execute_result"
    },
    {
     "data": {
      "image/png": "[encoded data removed]",
      "text/plain": [
       "<Figure size 2160x1080 with 1 Axes>"
      ]
     },
     "metadata": {
      "needs_background": "light"
     },
     "output_type": "display_data"
    }
   ],
   "source": [
    "fig_dims = (30, 15)\n",
    "fig, ax = plt.subplots(figsize=fig_dims)\n",
    "sns.histplot(data=df_ch, x=\"Change_DESC_Length\", bins= 25, ax = ax)"
   ]
  },
  {
   "cell_type": "code",
   "execution_count": 79,
   "metadata": {},
   "outputs": [],
   "source": [
    "rev = ' '.join(df_ch['CHANGE_DESC'].tolist())\n",
    "doc = nlp(rev)"
   ]
  },
  {
   "cell_type": "code",
   "execution_count": 80,
   "metadata": {},
   "outputs": [
    {
     "data": {
      "text/html": [
       "<div>\n",
       "<style scoped>\n",
       "    .dataframe tbody tr th:only-of-type {\n",
       "        vertical-align: middle;\n",
       "    }\n",
       "\n",
       "    .dataframe tbody tr th {\n",
       "        vertical-align: top;\n",
       "    }\n",
       "\n",
       "    .dataframe thead th {\n",
       "        text-align: right;\n",
       "    }\n",
       "</style>\n",
       "<table border=\"1\" class=\"dataframe\">\n",
       "  <thead>\n",
       "    <tr style=\"text-align: right;\">\n",
       "      <th></th>\n",
       "      <th>Token</th>\n",
       "      <th>Lemma</th>\n",
       "      <th>Stopwards</th>\n",
       "    </tr>\n",
       "  </thead>\n",
       "  <tbody>\n",
       "    <tr>\n",
       "      <th>0</th>\n",
       "      <td>Migrate</td>\n",
       "      <td>Migrate</td>\n",
       "      <td>False</td>\n",
       "    </tr>\n",
       "    <tr>\n",
       "      <th>1</th>\n",
       "      <td>an</td>\n",
       "      <td>an</td>\n",
       "      <td>True</td>\n",
       "    </tr>\n",
       "    <tr>\n",
       "      <th>2</th>\n",
       "      <td>existing</td>\n",
       "      <td>exist</td>\n",
       "      <td>False</td>\n",
       "    </tr>\n",
       "    <tr>\n",
       "      <th>3</th>\n",
       "      <td>ALB</td>\n",
       "      <td>ALB</td>\n",
       "      <td>False</td>\n",
       "    </tr>\n",
       "    <tr>\n",
       "      <th>4</th>\n",
       "      <td>configuration</td>\n",
       "      <td>configuration</td>\n",
       "      <td>False</td>\n",
       "    </tr>\n",
       "  </tbody>\n",
       "</table>\n",
       "</div>"
      ],
      "text/plain": [
       "           Token          Lemma  Stopwards\n",
       "0        Migrate        Migrate      False\n",
       "1             an             an       True\n",
       "2       existing          exist      False\n",
       "3            ALB            ALB      False\n",
       "4  configuration  configuration      False"
      ]
     },
     "execution_count": 80,
     "metadata": {},
     "output_type": "execute_result"
    }
   ],
   "source": [
    "tokens = pd.DataFrame(columns=['Token','Lemma','Stopwards'])\n",
    "\n",
    "tok = []\n",
    "lem = []\n",
    "stop = [] \n",
    "for t in doc:\n",
    "    tok.append(str(t))\n",
    "    lem.append(t.lemma_)\n",
    "    stop.append(t.is_stop)\n",
    "\n",
    "\n",
    "tokens[\"Token\"] = tok\n",
    "tokens['Lemma'] = lem\n",
    "tokens['Stopwards'] = stop\n",
    "\n",
    "tokens.head()"
   ]
  },
  {
   "cell_type": "code",
   "execution_count": 81,
   "metadata": {},
   "outputs": [
    {
     "data": {
      "text/plain": [
       "(934, 3)"
      ]
     },
     "execution_count": 81,
     "metadata": {},
     "output_type": "execute_result"
    }
   ],
   "source": [
    "tokens.shape"
   ]
  },
  {
   "cell_type": "code",
   "execution_count": 82,
   "metadata": {},
   "outputs": [
    {
     "name": "stdout",
     "output_type": "stream",
     "text": [
      "Total number of non-important words:  295\n",
      "Total number of important words:  639\n"
     ]
    }
   ],
   "source": [
    "print(\"Total number of non-important words: \",tokens['Stopwards'][tokens['Stopwards']==True].count())\n",
    "print(\"Total number of important words: \",tokens['Stopwards'][tokens['Stopwards']==False].count())"
   ]
  },
  {
   "cell_type": "code",
   "execution_count": 83,
   "metadata": {},
   "outputs": [
    {
     "data": {
      "text/html": [
       "<div>\n",
       "<style scoped>\n",
       "    .dataframe tbody tr th:only-of-type {\n",
       "        vertical-align: middle;\n",
       "    }\n",
       "\n",
       "    .dataframe tbody tr th {\n",
       "        vertical-align: top;\n",
       "    }\n",
       "\n",
       "    .dataframe thead th {\n",
       "        text-align: right;\n",
       "    }\n",
       "</style>\n",
       "<table border=\"1\" class=\"dataframe\">\n",
       "  <thead>\n",
       "    <tr style=\"text-align: right;\">\n",
       "      <th></th>\n",
       "      <th>Token</th>\n",
       "      <th>Lemma</th>\n",
       "      <th>Stopwards</th>\n",
       "    </tr>\n",
       "  </thead>\n",
       "  <tbody>\n",
       "    <tr>\n",
       "      <th>0</th>\n",
       "      <td>Migrate</td>\n",
       "      <td>Migrate</td>\n",
       "      <td>False</td>\n",
       "    </tr>\n",
       "    <tr>\n",
       "      <th>2</th>\n",
       "      <td>existing</td>\n",
       "      <td>exist</td>\n",
       "      <td>False</td>\n",
       "    </tr>\n",
       "    <tr>\n",
       "      <th>3</th>\n",
       "      <td>ALB</td>\n",
       "      <td>ALB</td>\n",
       "      <td>False</td>\n",
       "    </tr>\n",
       "    <tr>\n",
       "      <th>4</th>\n",
       "      <td>configuration</td>\n",
       "      <td>configuration</td>\n",
       "      <td>False</td>\n",
       "    </tr>\n",
       "    <tr>\n",
       "      <th>7</th>\n",
       "      <td>non</td>\n",
       "      <td>non</td>\n",
       "      <td>False</td>\n",
       "    </tr>\n",
       "  </tbody>\n",
       "</table>\n",
       "</div>"
      ],
      "text/plain": [
       "           Token          Lemma  Stopwards\n",
       "0        Migrate        Migrate      False\n",
       "2       existing          exist      False\n",
       "3            ALB            ALB      False\n",
       "4  configuration  configuration      False\n",
       "7            non            non      False"
      ]
     },
     "execution_count": 83,
     "metadata": {},
     "output_type": "execute_result"
    }
   ],
   "source": [
    "tokens = tokens.loc[tokens[\"Stopwards\"] != True]\n",
    "tokens.head()"
   ]
  },
  {
   "cell_type": "code",
   "execution_count": 84,
   "metadata": {},
   "outputs": [],
   "source": [
    "import re\n",
    "regex = re.compile('[@_!#$%^&*()\"''\"<>?/\\|}{~:,.;-=+<>?~`]')\n",
    "temp = tokens.loc[tokens['Token'].str.contains(regex, regex=True) == False]"
   ]
  },
  {
   "cell_type": "code",
   "execution_count": 85,
   "metadata": {},
   "outputs": [
    {
     "data": {
      "text/plain": [
       "(510, 3)"
      ]
     },
     "execution_count": 85,
     "metadata": {},
     "output_type": "execute_result"
    }
   ],
   "source": [
    "temp.shape"
   ]
  },
  {
   "cell_type": "code",
   "execution_count": 87,
   "metadata": {},
   "outputs": [
    {
     "data": {
      "text/plain": [
       "<AxesSubplot:xlabel='count', ylabel='Token'>"
      ]
     },
     "execution_count": 87,
     "metadata": {},
     "output_type": "execute_result"
    },
    {
     "data": {
      "image/png": "[encoded data removed]",
      "text/plain": [
       "<Figure size 1440x1800 with 1 Axes>"
      ]
     },
     "metadata": {
      "needs_background": "light"
     },
     "output_type": "display_data"
    }
   ],
   "source": [
    "fig_dims = (20, 25)\n",
    "fig, ax = plt.subplots(figsize=fig_dims)\n",
    "sns.countplot(data=temp, y=\"Token\", order = temp['Token'].value_counts().iloc[7:50].index, palette=\"Set3\")"
   ]
  },
  {
   "cell_type": "code",
   "execution_count": null,
   "metadata": {},
   "outputs": [],
   "source": []
  },
  {
   "cell_type": "code",
   "execution_count": null,
   "metadata": {},
   "outputs": [],
   "source": []
  },
  {
   "cell_type": "code",
   "execution_count": null,
   "metadata": {},
   "outputs": [],
   "source": []
  },
  {
   "cell_type": "code",
   "execution_count": null,
   "metadata": {},
   "outputs": [],
   "source": []
  }
 ],
 "metadata": {
  "kernelspec": {
   "display_name": "Python 3",
   "language": "python",
   "name": "python3"
  },
  "language_info": {
   "codemirror_mode": {
    "name": "ipython",
    "version": 3
   },
   "file_extension": ".py",
   "mimetype": "text/x-python",
   "name": "python",
   "nbconvert_exporter": "python",
   "pygments_lexer": "ipython3",
   "version": "3.8.5"
  }
 },
 "nbformat": 4,
 "nbformat_minor": 4
}
